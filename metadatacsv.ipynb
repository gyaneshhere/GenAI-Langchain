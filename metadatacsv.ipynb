{
 "cells": [
  {
   "cell_type": "code",
   "execution_count": 1,
   "id": "abd8b6d9-48be-4f3c-8dc8-c47e53b5d1e6",
   "metadata": {},
   "outputs": [
    {
     "name": "stdout",
     "output_type": "stream",
     "text": [
      "\u001b[31mERROR: pip's dependency resolver does not currently take into account all the packages that are installed. This behaviour is the source of the following dependency conflicts.\n",
      "dspy-ai 2.4.5 requires pydantic==2.5.0, but you have pydantic 2.7.1 which is incompatible.\n",
      "scrapegraphai 0.4.0 requires langchain==0.1.14, but you have langchain 0.1.17 which is incompatible.\n",
      "scrapegraphai 0.4.0 requires langchain-openai==0.1.1, but you have langchain-openai 0.1.5 which is incompatible.\n",
      "scrapegraphai 0.4.0 requires pandas==2.0.3, but you have pandas 2.2.2 which is incompatible.\n",
      "pykx 2.4.2 requires pandas<2.2.0,>=1.2, but you have pandas 2.2.2 which is incompatible.\u001b[0m\u001b[31m\n",
      "\u001b[0mNote: you may need to restart the kernel to use updated packages.\n"
     ]
    }
   ],
   "source": [
    "%pip install -qU langchain langchain-openai langchain-community langchain-experimental pandas"
   ]
  },
  {
   "cell_type": "code",
   "execution_count": 1,
   "id": "c3cbc970-72ae-4d02-a322-5ada54663c8a",
   "metadata": {},
   "outputs": [],
   "source": [
    "import os\n",
    "\n",
    "os.environ[\"OPENAI_API_KEY\"] = \"sk-\""
   ]
  },
  {
   "cell_type": "code",
   "execution_count": 3,
   "id": "fe3025fe-62a0-4e08-af2e-6c17b619026e",
   "metadata": {},
   "outputs": [
    {
     "name": "stdout",
     "output_type": "stream",
     "text": [
      "(14, 36)\n",
      "['uid', 'path', 'name', 'type', 'enabled', 'job_id', 'snode_id', 'params', 'created_at', 'created_by', 'updated_at', 'updated_by', 'schedule', 'pipeline.name', 'pipeline.version', 'pipeline.created_by', 'pipeline.snode_id', 'pipeline.doc_link', 'pipeline.notes', 'pipeline.purpose', 'pipeline.params', 'pipeline.sources', 'pipeline.targets', 'pipeline.accounts', 'BusinessObject(s)', 'Domain', 'Domain Owner(s)', 'Business Object(s)', 'Department', 'Project ID', 'DomainOwner(s)', 'BusinessObject(s)\"', 'ProjectID', 'Go-LiveDate', 'Go-Live Date', 'BO']\n"
     ]
    }
   ],
   "source": [
    "import pandas as pd\n",
    "\n",
    "df = pd.read_csv(\"integrations-catalog-full.csv\")\n",
    "print(df.shape)\n",
    "print(df.columns.tolist())"
   ]
  },
  {
   "cell_type": "code",
   "execution_count": 4,
   "id": "78abaec5-e3e6-462b-bbdd-2d34ef704b5a",
   "metadata": {},
   "outputs": [
    {
     "data": {
      "text/plain": [
       "14"
      ]
     },
     "execution_count": 4,
     "metadata": {},
     "output_type": "execute_result"
    }
   ],
   "source": [
    "from langchain_community.utilities import SQLDatabase\n",
    "from sqlalchemy import create_engine\n",
    "\n",
    "engine = create_engine(\"sqlite:///integration-catalog.db\")\n",
    "df.to_sql(\"integrations-catalog-full\", engine, index=False)"
   ]
  },
  {
   "cell_type": "code",
   "execution_count": 10,
   "id": "dcb1a9a3-ce57-4d5b-8543-097fd6d694b0",
   "metadata": {},
   "outputs": [
    {
     "name": "stdout",
     "output_type": "stream",
     "text": [
      "sqlite\n",
      "['integrations-catalog-full']\n"
     ]
    },
    {
     "data": {
      "text/plain": [
       "'[(\\'/ADM_Demo2/projects/SAP/Update Coupa Invoice Payment records\\', \\'/ADM_Demo2/projects/SAP\\', \\'Update Coupa Invoice Payment records\\', \\'triggered\\', 1, \\'6623dea36b713e0c49ab9723\\', \\'6623dea37f88077fb9312cb1\\', None, \\'2024-04-20T15:26:27.118Z\\', \\'tanand@snaplogic.com\\', \\'2024-04-20T15:26:27.118Z\\', \\'tanand@snaplogic.com\\', None, \\'SAP to Coupa - Payment\\', 4, \\'spothana+admin2@snaplogic.com\\', \\'6622be10f7b05ae499f6a916\\', None, None, None, None, None, \\'[\"Binary\",\"REST\"]\\', \\'[{\"name\":\"Coupa_integartion_acct\",\"path\":\"/ADM_Demo2/shared/Coupa_integartion_acct\"}]\\', \\'Order | Payment | Procurement\\', \\'ERP\\', \\'Peter Pan\\', \\'Order | Payment | Procurement\\', \\'Facilities\\', 3546.0, \\'Peter Pan\\', \\'Order | Payment | Procurement\\', 3546.0, \\'26-Jun-22\\', \\'26-Jun-22\\', None), (\\'/ADM_Demo2/projects/ServiceNow/Salesforce Campaign Create using ServiceNow Tickets\\', \\'/ADM_Demo2/projects/ServiceNow\\', \\'Salesforce Campaign Create using ServiceNow Tickets\\', \\'scheduled\\', 1, \\'6623de51d4a8fa5ad80b1216\\', \\'6623de51caa75c0f79264a92\\', \\'{\"Test\":\"dd\"}\\', \\'2024-04-20T15:25:05.995Z\\', \\'tanand@snaplogic.com\\', \\'2024-04-20T15:25:05.995Z\\', \\'tanand@snaplogic.com\\', \\'{\"start_time\":\"08:29:14\",\"time_zone\":\"US/Pacific\",\"start_date\":\"2024-04-20\",\"repeat\":{\"on\":{\"day\":[]},\"ends\":{\"when\":\"never\",\"occurrences\":null},\"blackout_dates\":[],\"cron\":{\"hour\":\"*\",\"day_of_week\":\"*\",\"day\":\"*\",\"minute\":\"0\",\"month\":\"*\"},\"every\":1,\"by\":\"days\"}}\\', \\'Service Now Request to Salesforce Campaign\\', 5, \\'tanand@snaplogic.com\\', \\'6623ddb9f5821d556774a9aa\\', None, None, None, \\'{\"Test\":\"dd\"}\\', None, \\'[\"Salesforce\"]\\', \\'[{\"name\":\"Salesforce_Acct\",\"path\":\"/ADM_Demo2/shared/Salesforce_Acct\"}]\\', \\'Service Request | Campaign Mgmt\\', \\'Marketing\\', \\'Peter Pan\\', \\'Service Request | Campaign Mgmt\\', \\'Marketing Operations\\', 3547.0, \\'Peter Pan\\', \\'Service Request | Campaign Mgmt\\', 3547.0, \\'26-Apr-23\\', \\'26-Apr-23\\', \\'Order | Payment | Procurement\\'), (\\'ADM_Demo2/projects/SnowFlake/pipelineExecute_PL _Pay_Task_TT\\', \\'ADM_Demo2/projects/SnowFlake\\', \\'pipelineExecute_PL _Pay_Task_TT\\', \\'triggered\\', 1, \\'6622be3b24f7996280947c16\\', \\'6622be3bace0170922456e2f\\', None, \\'2024-04-19T18:55:55.907Z\\', \\'spothana+admin2@snaplogic.com\\', \\'2024-04-22T20:46:11.997Z\\', \\'tanand@snaplogic.com\\', None, \\'pipelineExecute_PL\\', 1, \\'spothana+admin2@snaplogic.com\\', \\'6622be38ec399212308cb2aa\\', None, None, None, None, None, None, None, None, None, None, None, None, None, None, None, None, None, None, None), (\\'ADM_Demo2/projects/SnowFlake/Create ServiceNow Ticket on Salesforce update\\', \\'ADM_Demo2/projects/SnowFlake\\', \\'Create ServiceNow Ticket on Salesforce update\\', \\'triggered\\', 1, \\'6622be3b3465137e7cc33dde\\', \\'6622be3b1f7d9759c49f95d5\\', \\'{\"Test\":\"dd\"}\\', \\'2024-04-19T18:55:55.647Z\\', \\'spothana+admin2@snaplogic.com\\', \\'2024-04-20T15:19:04.074Z\\', \\'tanand@snaplogic.com\\', None, \\'Salesforce Task to Service Now Request\\', 2, \\'spothana+admin2@snaplogic.com\\', \\'6622be3805335727d2e7f8ce\\', None, None, None, \\'{\"Test\":\"dd\"}\\', \\'[\"Salesforce\"]\\', \\'[\"ServiceNow\"]\\', \\'[{\"name\":\"Salesforce_Acct\",\"path\":\"/ADM_Demo2/shared/Salesforce_Acct\"}]\\', None, None, None, None, None, None, None, None, None, None, None, None), (\\'/ADM_Demo2/projects/SnowFlake/Pipeline1_Triggered_Task\\', \\'/ADM_Demo2/projects/SnowFlake\\', \\'Pipeline1_Triggered_Task\\', \\'triggered\\', 1, \\'6622be3b3465137e7cc33ddd\\', \\'6622be3b5ecd3383c69e56ce\\', None, \\'2024-04-19T18:55:55.347Z\\', \\'spothana+admin2@snaplogic.com\\', \\'2024-04-19T18:55:55.347Z\\', \\'spothana+admin2@snaplogic.com\\', None, \\'Salesforce Task to Service Now Request\\', 2, \\'spothana+admin2@snaplogic.com\\', \\'6622be3805335727d2e7f8ce\\', None, None, None, \\'{\"Test\":\"dd\"}\\', \\'[\"Salesforce\"]\\', \\'[\"ServiceNow\"]\\', \\'[{\"name\":\"Salesforce_Acct\",\"path\":\"/ADM_Demo2/shared/Salesforce_Acct\"}]\\', None, None, None, None, None, None, None, None, None, None, None, None), (\\'ADM_Demo2/projects/SnowFlake/Update_Multiple_Endpoints\\', \\'ADM_Demo2/projects/SnowFlake\\', \\'Update_Multiple_Endpoints\\', \\'triggered\\', 1, \\'6622be3ad19fb20d3f323a36\\', \\'6622be3bd898c32882846b0d\\', None, \\'2024-04-19T18:55:55.051Z\\', \\'spothana+admin2@snaplogic.com\\', \\'2024-04-20T15:21:00.420Z\\', \\'tanand@snaplogic.com\\', None, \\'Multiple_Sources_Targets\\', 1, \\'tanand@snaplogic.com\\', \\'6622be375395ed5eae993e07\\', \\'snaplogic.com\\', \\'Test_Notes`\\', \\'Multiple sources\\', None, \\'[\"Salesforce\",\"Oracle\"]\\', \\'[\"Redshift\",\"Snowflake\"]\\', \\'[{\"name\":\"Salesforce_Acct\",\"path\":\"/ADM_Demo2/shared/Salesforce_Acct\"}]\\', None, None, None, None, None, None, None, None, None, None, None, None), (\\'/ADM_Demo2/projects/SnowFlake/Multiple_Sources_Targets_TriggeredTask\\', \\'/ADM_Demo2/projects/SnowFlake\\', \\'Multiple_Sources_Targets_TriggeredTask\\', \\'triggered\\', 1, \\'6622be3a24f7996280947c15\\', \\'6622be3aaa4413f96405ca4c\\', None, \\'2024-04-19T18:55:54.708Z\\', \\'spothana+admin2@snaplogic.com\\', \\'2024-04-19T18:55:54.708Z\\', \\'spothana+admin2@snaplogic.com\\', None, \\'Multiple_Sources_Targets\\', 1, \\'tanand@snaplogic.com\\', \\'6622be375395ed5eae993e07\\', \\'snaplogic.com\\', \\'Test_Notes`\\', \\'Multiple sources\\', None, \\'[\"Salesforce\",\"Oracle\"]\\', \\'[\"Redshift\",\"Snowflake\"]\\', \\'[{\"name\":\"Salesforce_Acct\",\"path\":\"/ADM_Demo2/shared/Salesforce_Acct\"}]\\', None, None, None, None, None, None, None, None, None, None, None, None), (\\'ADM_Demo2/projects/SnowFlake/Salesforce webhook to Snowflake\\', \\'ADM_Demo2/projects/SnowFlake\\', \\'Salesforce webhook to Snowflake\\', \\'triggered\\', 0, \\'6622be3a24f7996280947c14\\', \\'6622be3a85af29d301bc4ffe\\', \\'{\"Param1\":\"Test1\",\"Param2\":\"Test3\"}\\', \\'2024-04-19T18:55:54.495Z\\', \\'spothana+admin2@snaplogic.com\\', \\'2024-04-20T15:19:49.232Z\\', \\'tanand@snaplogic.com\\', None, \\'SalesForce_To_SnowFlake_Pipeline\\', 1, \\'spothana+admin2@snaplogic.com\\', \\'6622be3657ef604d7a61ce69\\', None, None, None, \\'{\"Param2\":\"Test2\",\"Param1\":\"Test1\"}\\', \\'[\"Salesforce\"]\\', None, \\'[{\"name\":\"Salesforce_Acct\",\"path\":\"/ADM_Demo2/shared/Salesforce_Acct\"}]\\', None, None, None, None, None, None, None, None, None, None, None, None), (\\'/ADM_Demo2/projects/SnowFlake/SalesForce_To_SnowFlake_Pipeline_UltraTask\\', \\'/ADM_Demo2/projects/SnowFlake\\', \\'SalesForce_To_SnowFlake_Pipeline_UltraTask\\', \\'ultra\\', 1, \\'6622be393465137e7cc33ddc\\', \\'6622be3a85af29d301bc4ffc\\', \\'{\"Param1\":\"Test1\",\"Param2\":\"Test3\"}\\', \\'2024-04-19T18:55:54.193Z\\', \\'spothana+admin2@snaplogic.com\\', \\'2024-04-19T18:55:54.193Z\\', \\'spothana+admin2@snaplogic.com\\', \\'{\"always_on\":true}\\', \\'SalesForce_To_SnowFlake_Pipeline\\', 1, \\'spothana+admin2@snaplogic.com\\', \\'6622be3657ef604d7a61ce69\\', None, None, None, \\'{\"Param2\":\"Test2\",\"Param1\":\"Test1\"}\\', \\'[\"Salesforce\"]\\', None, \\'[{\"name\":\"Salesforce_Acct\",\"path\":\"/ADM_Demo2/shared/Salesforce_Acct\"}]\\', None, None, None, None, None, None, None, None, None, None, None, None), (\\'ADM_Demo2/projects/SnowFlake/SalesForce_To_SnowFlake_Pipeline_ScheduledTask\\', \\'ADM_Demo2/projects/SnowFlake\\', \\'SalesForce_To_SnowFlake_Pipeline_ScheduledTask\\', \\'scheduled\\', 1, \\'6622be39e57323a29eaa52fe\\', \\'6622be399cfffcbe3318788e\\', \\'{\"Param1\":\"Test1\",\"Param2\":\"Test3\"}\\', \\'2024-04-19T18:55:53.866Z\\', \\'spothana+admin2@snaplogic.com\\', \\'2024-04-19T19:43:08.758Z\\', \\'tanand@snaplogic.com\\', \\'{\"start_time\":\"16:05:10\",\"time_zone\":\"US/Pacific\",\"start_date\":\"2024-04-17\",\"repeat\":{\"on\":{\"day\":[]},\"ends\":{\"when\":\"never\",\"occurrences\":null},\"blackout_dates\":[],\"cron\":{\"hour\":\"*\",\"day_of_week\":\"*\",\"day\":\"*\",\"minute\":\"0\",\"month\":\"*\"},\"every\":60,\"by\":\"minutes\"}}\\', \\'SalesForce_To_SnowFlake_Pipeline\\', 1, \\'spothana+admin2@snaplogic.com\\', \\'6622be3657ef604d7a61ce69\\', None, None, None, \\'{\"Param2\":\"Test2\",\"Param1\":\"Test1\"}\\', \\'[\"Salesforce\"]\\', None, \\'[{\"name\":\"Salesforce_Acct\",\"path\":\"/ADM_Demo2/shared/Salesforce_Acct\"}]\\', None, None, None, None, None, None, None, None, None, None, None, None), (\\'/ADM_Demo2/projects/SnowFlake/SalesForce_To_SnowFlake_Pipeline Task Spaces\\', \\'/ADM_Demo2/projects/SnowFlake\\', \\'SalesForce_To_SnowFlake_Pipeline Task Spaces\\', \\'triggered\\', 1, \\'6622be39d19fb20d3f323a35\\', \\'6622be39ace0170922456e2d\\', \\'{\"Param1\":\"Test1\",\"Param2\":\"Test3\"}\\', \\'2024-04-19T18:55:53.548Z\\', \\'spothana+admin2@snaplogic.com\\', \\'2024-04-19T18:55:53.548Z\\', \\'spothana+admin2@snaplogic.com\\', None, \\'SalesForce_To_SnowFlake_Pipeline\\', 1, \\'spothana+admin2@snaplogic.com\\', \\'6622be3657ef604d7a61ce69\\', None, None, None, \\'{\"Param2\":\"Test2\",\"Param1\":\"Test1\"}\\', \\'[\"Salesforce\"]\\', None, \\'[{\"name\":\"Salesforce_Acct\",\"path\":\"/ADM_Demo2/shared/Salesforce_Acct\"}]\\', None, None, None, None, None, None, None, None, None, None, None, None), (\\'/ADM_Demo2/projects/SnowFlake/SalesForce_To_SnowFlake_Pipeline_Task\\', \\'/ADM_Demo2/projects/SnowFlake\\', \\'SalesForce_To_SnowFlake_Pipeline_Task\\', \\'triggered\\', 1, \\'6622be39d19fb20d3f323a34\\', \\'6622be3969d90dc961eab567\\', \\'{\"Param1\":\"Test1\",\"Param2\":\"Test3\"}\\', \\'2024-04-19T18:55:53.216Z\\', \\'spothana+admin2@snaplogic.com\\', \\'2024-04-19T18:55:53.216Z\\', \\'spothana+admin2@snaplogic.com\\', None, \\'SalesForce_To_SnowFlake_Pipeline\\', 1, \\'spothana+admin2@snaplogic.com\\', \\'6622be3657ef604d7a61ce69\\', None, None, None, \\'{\"Param2\":\"Test2\",\"Param1\":\"Test1\"}\\', \\'[\"Salesforce\"]\\', None, \\'[{\"name\":\"Salesforce_Acct\",\"path\":\"/ADM_Demo2/shared/Salesforce_Acct\"}]\\', None, None, None, None, None, None, None, None, None, None, None, None), (\\'/ADM_Demo2/projects/SAP/Quote_to_SFDC Task\\', \\'/ADM_Demo2/projects/SAP\\', \\'Quote_to_SFDC Task\\', \\'scheduled\\', 1, \\'6622be143465137e7cc33dd8\\', \\'6622be1469d90dc961eab55f\\', \\'{\"SAP_ACCOUNT\":\"RFC_SL_SFORC_SAPATLAS\",\"SFDC_ACCOUNT\":\"SNAPLOGIC_CPQ_SALESFORCE\"}\\', \\'2024-04-19T18:55:16.070Z\\', \\'spothana+admin2@snaplogic.com\\', \\'2024-04-19T18:55:16.070Z\\', \\'spothana+admin2@snaplogic.com\\', \\'{\"start_date\":\"2024-04-19\",\"start_time\":\"11:31:16\",\"time_zone\":\"US/Pacific\"}\\', \\'oppQuoteEqp_Atlas_SFDC\\', 1, \\'tanand@snaplogic.com\\', \\'6622be1369d90dc961eab55d\\', None, None, None, \\'{\"SFDC_ACCOUNT\":\"SNAPLOGIC_CPQ_SALESFORCE\",\"SAP_ACCOUNT\":\"RFC_SL_SFORC_SAPATLAS\"}\\', \\'[\"Binary\"]\\', \\'[\"Binary\"]\\', None, None, None, None, None, None, None, None, None, None, None, None, None), (\\'/ADM_Demo2/projects/shared/MyTriggered\\', \\'/ADM_Demo2/projects/shared\\', \\'MyTriggered\\', \\'triggered\\', 1, \\'6622bd8e24f7996280947c02\\', \\'6622bd8eaa4413f96405ca42\\', None, \\'2024-04-19T18:53:02.943Z\\', \\'spothana+admin2@snaplogic.com\\', \\'2024-04-19T18:53:02.943Z\\', \\'spothana+admin2@snaplogic.com\\', None, \\'SA new pipeline 0\\', 1, \\'sabdul@snaplogic.com\\', \\'6622bd8eace0170922456e29\\', None, None, None, None, None, None, None, None, None, None, None, None, None, None, None, None, None, None, None)]'"
      ]
     },
     "execution_count": 10,
     "metadata": {},
     "output_type": "execute_result"
    }
   ],
   "source": [
    "db = SQLDatabase(engine=engine)\n",
    "print(db.dialect)\n",
    "print(db.get_usable_table_names())\n",
    "db.run(\"SELECT * FROM 'integrations-catalog-full';\")"
   ]
  },
  {
   "cell_type": "code",
   "execution_count": 11,
   "id": "fc244c98-732b-4836-9e2e-d711a3a6b3a9",
   "metadata": {},
   "outputs": [],
   "source": [
    "from langchain_community.agent_toolkits import create_sql_agent\n",
    "from langchain_openai import ChatOpenAI\n",
    "\n",
    "llm = ChatOpenAI(model=\"gpt-3.5-turbo\", temperature=0)\n",
    "agent_executor = create_sql_agent(llm, db=db, agent_type=\"openai-tools\", verbose=True)"
   ]
  },
  {
   "cell_type": "code",
   "execution_count": 32,
   "id": "4a7eb88f-f2ec-4aea-a2c1-b98588bec1e8",
   "metadata": {},
   "outputs": [
    {
     "name": "stdout",
     "output_type": "stream",
     "text": [
      "\n",
      "\n",
      "\u001b[1m> Entering new SQL Agent Executor chain...\u001b[0m\n",
      "\u001b[32;1m\u001b[1;3m\n",
      "Invoking: `sql_db_list_tables` with `{}`\n",
      "\n",
      "\n",
      "\u001b[0m\u001b[38;5;200m\u001b[1;3mintegrations-catalog-full\u001b[0m\u001b[32;1m\u001b[1;3m\n",
      "Invoking: `sql_db_schema` with `{'table_names': 'integrations-catalog-full'}`\n",
      "\n",
      "\n",
      "\u001b[0m\u001b[33;1m\u001b[1;3m\n",
      "CREATE TABLE \"integrations-catalog-full\" (\n",
      "\tuid TEXT, \n",
      "\tpath TEXT, \n",
      "\tname TEXT, \n",
      "\ttype TEXT, \n",
      "\tenabled BOOLEAN, \n",
      "\tjob_id TEXT, \n",
      "\tsnode_id TEXT, \n",
      "\tparams TEXT, \n",
      "\tcreated_at TEXT, \n",
      "\tcreated_by TEXT, \n",
      "\tupdated_at TEXT, \n",
      "\tupdated_by TEXT, \n",
      "\tschedule TEXT, \n",
      "\t\"pipeline.name\" TEXT, \n",
      "\t\"pipeline.version\" BIGINT, \n",
      "\t\"pipeline.created_by\" TEXT, \n",
      "\t\"pipeline.snode_id\" TEXT, \n",
      "\t\"pipeline.doc_link\" TEXT, \n",
      "\t\"pipeline.notes\" TEXT, \n",
      "\t\"pipeline.purpose\" TEXT, \n",
      "\t\"pipeline.params\" TEXT, \n",
      "\t\"pipeline.sources\" TEXT, \n",
      "\t\"pipeline.targets\" TEXT, \n",
      "\t\"pipeline.accounts\" TEXT, \n",
      "\t\"BusinessObject(s)\" TEXT, \n",
      "\t\"Domain\" TEXT, \n",
      "\t\"Domain Owner(s)\" TEXT, \n",
      "\t\"Business Object(s)\" TEXT, \n",
      "\t\"Department\" TEXT, \n",
      "\t\"Project ID\" FLOAT, \n",
      "\t\"DomainOwner(s)\" TEXT, \n",
      "\t\"BusinessObject(s)\"\"\" TEXT, \n",
      "\t\"ProjectID\" FLOAT, \n",
      "\t\"Go-LiveDate\" TEXT, \n",
      "\t\"Go-Live Date\" TEXT, \n",
      "\t\"BO\" TEXT\n",
      ")\n",
      "\n",
      "/*\n",
      "3 rows from integrations-catalog-full table:\n",
      "uid\tpath\tname\ttype\tenabled\tjob_id\tsnode_id\tparams\tcreated_at\tcreated_by\tupdated_at\tupdated_by\tschedule\tpipeline.name\tpipeline.version\tpipeline.created_by\tpipeline.snode_id\tpipeline.doc_link\tpipeline.notes\tpipeline.purpose\tpipeline.params\tpipeline.sources\tpipeline.targets\tpipeline.accounts\tBusinessObject(s)\tDomain\tDomain Owner(s)\tBusiness Object(s)\tDepartment\tProject ID\tDomainOwner(s)\tBusinessObject(s)\"\tProjectID\tGo-LiveDate\tGo-Live Date\tBO\n",
      "/ADM_Demo2/projects/SAP/Update Coupa Invoice Payment records\t/ADM_Demo2/projects/SAP\tUpdate Coupa Invoice Payment records\ttriggered\tTrue\t6623dea36b713e0c49ab9723\t6623dea37f88077fb9312cb1\tNone\t2024-04-20T15:26:27.118Z\ttanand@snaplogic.com\t2024-04-20T15:26:27.118Z\ttanand@snaplogic.com\tNone\tSAP to Coupa - Payment\t4\tspothana+admin2@snaplogic.com\t6622be10f7b05ae499f6a916\tNone\tNone\tNone\tNone\tNone\t[\"Binary\",\"REST\"]\t[{\"name\":\"Coupa_integartion_acct\",\"path\":\"/ADM_Demo2/shared/Coupa_integartion_acct\"}]\tOrder | Payment | Procurement\tERP\tPeter Pan\tOrder | Payment | Procurement\tFacilities\t3546.0\tPeter Pan\tOrder | Payment | Procurement\t3546.0\t26-Jun-22\t26-Jun-22\tNone\n",
      "/ADM_Demo2/projects/ServiceNow/Salesforce Campaign Create using ServiceNow Tickets\t/ADM_Demo2/projects/ServiceNow\tSalesforce Campaign Create using ServiceNow Tickets\tscheduled\tTrue\t6623de51d4a8fa5ad80b1216\t6623de51caa75c0f79264a92\t{\"Test\":\"dd\"}\t2024-04-20T15:25:05.995Z\ttanand@snaplogic.com\t2024-04-20T15:25:05.995Z\ttanand@snaplogic.com\t{\"start_time\":\"08:29:14\",\"time_zone\":\"US/Pacific\",\"start_date\":\"2024-04-20\",\"repeat\":{\"on\":{\"day\":[]\tService Now Request to Salesforce Campaign\t5\ttanand@snaplogic.com\t6623ddb9f5821d556774a9aa\tNone\tNone\tNone\t{\"Test\":\"dd\"}\tNone\t[\"Salesforce\"]\t[{\"name\":\"Salesforce_Acct\",\"path\":\"/ADM_Demo2/shared/Salesforce_Acct\"}]\tService Request | Campaign Mgmt\tMarketing\tPeter Pan\tService Request | Campaign Mgmt\tMarketing Operations\t3547.0\tPeter Pan\tService Request | Campaign Mgmt\t3547.0\t26-Apr-23\t26-Apr-23\tOrder | Payment | Procurement\n",
      "ADM_Demo2/projects/SnowFlake/pipelineExecute_PL _Pay_Task_TT\tADM_Demo2/projects/SnowFlake\tpipelineExecute_PL _Pay_Task_TT\ttriggered\tTrue\t6622be3b24f7996280947c16\t6622be3bace0170922456e2f\tNone\t2024-04-19T18:55:55.907Z\tspothana+admin2@snaplogic.com\t2024-04-22T20:46:11.997Z\ttanand@snaplogic.com\tNone\tpipelineExecute_PL\t1\tspothana+admin2@snaplogic.com\t6622be38ec399212308cb2aa\tNone\tNone\tNone\tNone\tNone\tNone\tNone\tNone\tNone\tNone\tNone\tNone\tNone\tNone\tNone\tNone\tNone\tNone\tNone\n",
      "*/\u001b[0m\u001b[32;1m\u001b[1;3m\n",
      "Invoking: `sql_db_query` with `{'query': 'SELECT COUNT(*) FROM \"integrations-catalog-full\" WHERE \"pipeline.sources\" LIKE \\'%Salesforce%\\''}`\n",
      "\n",
      "\n",
      "\u001b[0m\u001b[36;1m\u001b[1;3m[(9,)]\u001b[0m\u001b[32;1m\u001b[1;3mThere are 9 integration-catalog entries in the integration-catalog that use Salesforce as sources.\u001b[0m\n",
      "\n",
      "\u001b[1m> Finished chain.\u001b[0m\n"
     ]
    },
    {
     "data": {
      "text/plain": [
       "{'input': 'how many integration-catalog in the integration-catalog use Salesforce as sources',\n",
       " 'output': 'There are 9 integration-catalog entries in the integration-catalog that use Salesforce as sources.'}"
      ]
     },
     "execution_count": 32,
     "metadata": {},
     "output_type": "execute_result"
    }
   ],
   "source": [
    "agent_executor.invoke({\"input\": \"how many integration-catalog in the integration-catalog use Salesforce as sources\"})"
   ]
  },
  {
   "cell_type": "code",
   "execution_count": 13,
   "id": "17d50ff3-58c9-4850-8b1b-fc40947d8859",
   "metadata": {},
   "outputs": [
    {
     "name": "stdout",
     "output_type": "stream",
     "text": [
      "\n",
      "\n",
      "\u001b[1m> Entering new SQL Agent Executor chain...\u001b[0m\n",
      "\u001b[32;1m\u001b[1;3m\n",
      "Invoking: `sql_db_list_tables` with `{}`\n",
      "\n",
      "\n",
      "\u001b[0m\u001b[38;5;200m\u001b[1;3mintegrations-catalog-full\u001b[0m\u001b[32;1m\u001b[1;3m\n",
      "Invoking: `sql_db_schema` with `{'table_names': 'integrations-catalog-full'}`\n",
      "\n",
      "\n",
      "\u001b[0m\u001b[33;1m\u001b[1;3m\n",
      "CREATE TABLE \"integrations-catalog-full\" (\n",
      "\tuid TEXT, \n",
      "\tpath TEXT, \n",
      "\tname TEXT, \n",
      "\ttype TEXT, \n",
      "\tenabled BOOLEAN, \n",
      "\tjob_id TEXT, \n",
      "\tsnode_id TEXT, \n",
      "\tparams TEXT, \n",
      "\tcreated_at TEXT, \n",
      "\tcreated_by TEXT, \n",
      "\tupdated_at TEXT, \n",
      "\tupdated_by TEXT, \n",
      "\tschedule TEXT, \n",
      "\t\"pipeline.name\" TEXT, \n",
      "\t\"pipeline.version\" BIGINT, \n",
      "\t\"pipeline.created_by\" TEXT, \n",
      "\t\"pipeline.snode_id\" TEXT, \n",
      "\t\"pipeline.doc_link\" TEXT, \n",
      "\t\"pipeline.notes\" TEXT, \n",
      "\t\"pipeline.purpose\" TEXT, \n",
      "\t\"pipeline.params\" TEXT, \n",
      "\t\"pipeline.sources\" TEXT, \n",
      "\t\"pipeline.targets\" TEXT, \n",
      "\t\"pipeline.accounts\" TEXT, \n",
      "\t\"BusinessObject(s)\" TEXT, \n",
      "\t\"Domain\" TEXT, \n",
      "\t\"Domain Owner(s)\" TEXT, \n",
      "\t\"Business Object(s)\" TEXT, \n",
      "\t\"Department\" TEXT, \n",
      "\t\"Project ID\" FLOAT, \n",
      "\t\"DomainOwner(s)\" TEXT, \n",
      "\t\"BusinessObject(s)\"\"\" TEXT, \n",
      "\t\"ProjectID\" FLOAT, \n",
      "\t\"Go-LiveDate\" TEXT, \n",
      "\t\"Go-Live Date\" TEXT, \n",
      "\t\"BO\" TEXT\n",
      ")\n",
      "\n",
      "/*\n",
      "3 rows from integrations-catalog-full table:\n",
      "uid\tpath\tname\ttype\tenabled\tjob_id\tsnode_id\tparams\tcreated_at\tcreated_by\tupdated_at\tupdated_by\tschedule\tpipeline.name\tpipeline.version\tpipeline.created_by\tpipeline.snode_id\tpipeline.doc_link\tpipeline.notes\tpipeline.purpose\tpipeline.params\tpipeline.sources\tpipeline.targets\tpipeline.accounts\tBusinessObject(s)\tDomain\tDomain Owner(s)\tBusiness Object(s)\tDepartment\tProject ID\tDomainOwner(s)\tBusinessObject(s)\"\tProjectID\tGo-LiveDate\tGo-Live Date\tBO\n",
      "/ADM_Demo2/projects/SAP/Update Coupa Invoice Payment records\t/ADM_Demo2/projects/SAP\tUpdate Coupa Invoice Payment records\ttriggered\tTrue\t6623dea36b713e0c49ab9723\t6623dea37f88077fb9312cb1\tNone\t2024-04-20T15:26:27.118Z\ttanand@snaplogic.com\t2024-04-20T15:26:27.118Z\ttanand@snaplogic.com\tNone\tSAP to Coupa - Payment\t4\tspothana+admin2@snaplogic.com\t6622be10f7b05ae499f6a916\tNone\tNone\tNone\tNone\tNone\t[\"Binary\",\"REST\"]\t[{\"name\":\"Coupa_integartion_acct\",\"path\":\"/ADM_Demo2/shared/Coupa_integartion_acct\"}]\tOrder | Payment | Procurement\tERP\tPeter Pan\tOrder | Payment | Procurement\tFacilities\t3546.0\tPeter Pan\tOrder | Payment | Procurement\t3546.0\t26-Jun-22\t26-Jun-22\tNone\n",
      "/ADM_Demo2/projects/ServiceNow/Salesforce Campaign Create using ServiceNow Tickets\t/ADM_Demo2/projects/ServiceNow\tSalesforce Campaign Create using ServiceNow Tickets\tscheduled\tTrue\t6623de51d4a8fa5ad80b1216\t6623de51caa75c0f79264a92\t{\"Test\":\"dd\"}\t2024-04-20T15:25:05.995Z\ttanand@snaplogic.com\t2024-04-20T15:25:05.995Z\ttanand@snaplogic.com\t{\"start_time\":\"08:29:14\",\"time_zone\":\"US/Pacific\",\"start_date\":\"2024-04-20\",\"repeat\":{\"on\":{\"day\":[]\tService Now Request to Salesforce Campaign\t5\ttanand@snaplogic.com\t6623ddb9f5821d556774a9aa\tNone\tNone\tNone\t{\"Test\":\"dd\"}\tNone\t[\"Salesforce\"]\t[{\"name\":\"Salesforce_Acct\",\"path\":\"/ADM_Demo2/shared/Salesforce_Acct\"}]\tService Request | Campaign Mgmt\tMarketing\tPeter Pan\tService Request | Campaign Mgmt\tMarketing Operations\t3547.0\tPeter Pan\tService Request | Campaign Mgmt\t3547.0\t26-Apr-23\t26-Apr-23\tOrder | Payment | Procurement\n",
      "ADM_Demo2/projects/SnowFlake/pipelineExecute_PL _Pay_Task_TT\tADM_Demo2/projects/SnowFlake\tpipelineExecute_PL _Pay_Task_TT\ttriggered\tTrue\t6622be3b24f7996280947c16\t6622be3bace0170922456e2f\tNone\t2024-04-19T18:55:55.907Z\tspothana+admin2@snaplogic.com\t2024-04-22T20:46:11.997Z\ttanand@snaplogic.com\tNone\tpipelineExecute_PL\t1\tspothana+admin2@snaplogic.com\t6622be38ec399212308cb2aa\tNone\tNone\tNone\tNone\tNone\tNone\tNone\tNone\tNone\tNone\tNone\tNone\tNone\tNone\tNone\tNone\tNone\tNone\tNone\n",
      "*/\u001b[0m\u001b[32;1m\u001b[1;3m\n",
      "Invoking: `sql_db_query` with `{'query': 'SELECT \"pipeline.name\", COUNT(*) AS frequency FROM \"integrations-catalog-full\" GROUP BY \"pipeline.name\" ORDER BY frequency DESC LIMIT 1'}`\n",
      "\n",
      "\n",
      "\u001b[0m\u001b[36;1m\u001b[1;3m[('SalesForce_To_SnowFlake_Pipeline', 5)]\u001b[0m\u001b[32;1m\u001b[1;3mThe most frequently used pipeline in the integration-catalog is \"SalesForce_To_SnowFlake_Pipeline\" with a frequency of 5.\u001b[0m\n",
      "\n",
      "\u001b[1m> Finished chain.\u001b[0m\n"
     ]
    },
    {
     "data": {
      "text/plain": [
       "{'input': \"what's the most frequently used pipeline in the integration-catalog\",\n",
       " 'output': 'The most frequently used pipeline in the integration-catalog is \"SalesForce_To_SnowFlake_Pipeline\" with a frequency of 5.'}"
      ]
     },
     "execution_count": 13,
     "metadata": {},
     "output_type": "execute_result"
    }
   ],
   "source": [
    "agent_executor.invoke({\"input\": \"what's the most frequently used pipeline in the integration-catalog\"})"
   ]
  },
  {
   "cell_type": "code",
   "execution_count": 33,
   "id": "388fc71a-09f5-4ed1-83f3-0158ececae1d",
   "metadata": {},
   "outputs": [
    {
     "name": "stdout",
     "output_type": "stream",
     "text": [
      "\n",
      "\n",
      "\u001b[1m> Entering new SQL Agent Executor chain...\u001b[0m\n",
      "\u001b[32;1m\u001b[1;3m\n",
      "Invoking: `sql_db_list_tables` with `{}`\n",
      "\n",
      "\n",
      "\u001b[0m\u001b[38;5;200m\u001b[1;3mintegrations-catalog-full\u001b[0m\u001b[32;1m\u001b[1;3m\n",
      "Invoking: `sql_db_schema` with `{'table_names': 'integrations-catalog-full'}`\n",
      "\n",
      "\n",
      "\u001b[0m\u001b[33;1m\u001b[1;3m\n",
      "CREATE TABLE \"integrations-catalog-full\" (\n",
      "\tuid TEXT, \n",
      "\tpath TEXT, \n",
      "\tname TEXT, \n",
      "\ttype TEXT, \n",
      "\tenabled BOOLEAN, \n",
      "\tjob_id TEXT, \n",
      "\tsnode_id TEXT, \n",
      "\tparams TEXT, \n",
      "\tcreated_at TEXT, \n",
      "\tcreated_by TEXT, \n",
      "\tupdated_at TEXT, \n",
      "\tupdated_by TEXT, \n",
      "\tschedule TEXT, \n",
      "\t\"pipeline.name\" TEXT, \n",
      "\t\"pipeline.version\" BIGINT, \n",
      "\t\"pipeline.created_by\" TEXT, \n",
      "\t\"pipeline.snode_id\" TEXT, \n",
      "\t\"pipeline.doc_link\" TEXT, \n",
      "\t\"pipeline.notes\" TEXT, \n",
      "\t\"pipeline.purpose\" TEXT, \n",
      "\t\"pipeline.params\" TEXT, \n",
      "\t\"pipeline.sources\" TEXT, \n",
      "\t\"pipeline.targets\" TEXT, \n",
      "\t\"pipeline.accounts\" TEXT, \n",
      "\t\"BusinessObject(s)\" TEXT, \n",
      "\t\"Domain\" TEXT, \n",
      "\t\"Domain Owner(s)\" TEXT, \n",
      "\t\"Business Object(s)\" TEXT, \n",
      "\t\"Department\" TEXT, \n",
      "\t\"Project ID\" FLOAT, \n",
      "\t\"DomainOwner(s)\" TEXT, \n",
      "\t\"BusinessObject(s)\"\"\" TEXT, \n",
      "\t\"ProjectID\" FLOAT, \n",
      "\t\"Go-LiveDate\" TEXT, \n",
      "\t\"Go-Live Date\" TEXT, \n",
      "\t\"BO\" TEXT\n",
      ")\n",
      "\n",
      "/*\n",
      "3 rows from integrations-catalog-full table:\n",
      "uid\tpath\tname\ttype\tenabled\tjob_id\tsnode_id\tparams\tcreated_at\tcreated_by\tupdated_at\tupdated_by\tschedule\tpipeline.name\tpipeline.version\tpipeline.created_by\tpipeline.snode_id\tpipeline.doc_link\tpipeline.notes\tpipeline.purpose\tpipeline.params\tpipeline.sources\tpipeline.targets\tpipeline.accounts\tBusinessObject(s)\tDomain\tDomain Owner(s)\tBusiness Object(s)\tDepartment\tProject ID\tDomainOwner(s)\tBusinessObject(s)\"\tProjectID\tGo-LiveDate\tGo-Live Date\tBO\n",
      "/ADM_Demo2/projects/SAP/Update Coupa Invoice Payment records\t/ADM_Demo2/projects/SAP\tUpdate Coupa Invoice Payment records\ttriggered\tTrue\t6623dea36b713e0c49ab9723\t6623dea37f88077fb9312cb1\tNone\t2024-04-20T15:26:27.118Z\ttanand@snaplogic.com\t2024-04-20T15:26:27.118Z\ttanand@snaplogic.com\tNone\tSAP to Coupa - Payment\t4\tspothana+admin2@snaplogic.com\t6622be10f7b05ae499f6a916\tNone\tNone\tNone\tNone\tNone\t[\"Binary\",\"REST\"]\t[{\"name\":\"Coupa_integartion_acct\",\"path\":\"/ADM_Demo2/shared/Coupa_integartion_acct\"}]\tOrder | Payment | Procurement\tERP\tPeter Pan\tOrder | Payment | Procurement\tFacilities\t3546.0\tPeter Pan\tOrder | Payment | Procurement\t3546.0\t26-Jun-22\t26-Jun-22\tNone\n",
      "/ADM_Demo2/projects/ServiceNow/Salesforce Campaign Create using ServiceNow Tickets\t/ADM_Demo2/projects/ServiceNow\tSalesforce Campaign Create using ServiceNow Tickets\tscheduled\tTrue\t6623de51d4a8fa5ad80b1216\t6623de51caa75c0f79264a92\t{\"Test\":\"dd\"}\t2024-04-20T15:25:05.995Z\ttanand@snaplogic.com\t2024-04-20T15:25:05.995Z\ttanand@snaplogic.com\t{\"start_time\":\"08:29:14\",\"time_zone\":\"US/Pacific\",\"start_date\":\"2024-04-20\",\"repeat\":{\"on\":{\"day\":[]\tService Now Request to Salesforce Campaign\t5\ttanand@snaplogic.com\t6623ddb9f5821d556774a9aa\tNone\tNone\tNone\t{\"Test\":\"dd\"}\tNone\t[\"Salesforce\"]\t[{\"name\":\"Salesforce_Acct\",\"path\":\"/ADM_Demo2/shared/Salesforce_Acct\"}]\tService Request | Campaign Mgmt\tMarketing\tPeter Pan\tService Request | Campaign Mgmt\tMarketing Operations\t3547.0\tPeter Pan\tService Request | Campaign Mgmt\t3547.0\t26-Apr-23\t26-Apr-23\tOrder | Payment | Procurement\n",
      "ADM_Demo2/projects/SnowFlake/pipelineExecute_PL _Pay_Task_TT\tADM_Demo2/projects/SnowFlake\tpipelineExecute_PL _Pay_Task_TT\ttriggered\tTrue\t6622be3b24f7996280947c16\t6622be3bace0170922456e2f\tNone\t2024-04-19T18:55:55.907Z\tspothana+admin2@snaplogic.com\t2024-04-22T20:46:11.997Z\ttanand@snaplogic.com\tNone\tpipelineExecute_PL\t1\tspothana+admin2@snaplogic.com\t6622be38ec399212308cb2aa\tNone\tNone\tNone\tNone\tNone\tNone\tNone\tNone\tNone\tNone\tNone\tNone\tNone\tNone\tNone\tNone\tNone\tNone\tNone\n",
      "*/\u001b[0m\u001b[32;1m\u001b[1;3m\n",
      "Invoking: `sql_db_query` with `{'query': 'SELECT COUNT(*) FROM \"integrations-catalog-full\" WHERE LOWER(targets) LIKE \\'%snowflake%\\''}`\n",
      "\n",
      "\n",
      "\u001b[0m\u001b[36;1m\u001b[1;3mError: (sqlite3.OperationalError) no such column: targets\n",
      "[SQL: SELECT COUNT(*) FROM \"integrations-catalog-full\" WHERE LOWER(targets) LIKE '%snowflake%']\n",
      "(Background on this error at: https://sqlalche.me/e/20/e3q8)\u001b[0m\u001b[32;1m\u001b[1;3m\n",
      "Invoking: `sql_db_query_checker` with `{'query': 'SELECT * FROM \"integrations-catalog-full\" LIMIT 1'}`\n",
      "\n",
      "\n",
      "\u001b[0m\u001b[36;1m\u001b[1;3mSELECT * FROM \"integrations-catalog-full\" LIMIT 1;\u001b[0m\u001b[32;1m\u001b[1;3m\n",
      "Invoking: `sql_db_query` with `{'query': 'SELECT COUNT(*) FROM \"integrations-catalog-full\" WHERE LOWER(\"pipeline.targets\") LIKE \\'%snowflake%\\''}`\n",
      "\n",
      "\n",
      "\u001b[0m\u001b[36;1m\u001b[1;3m[(2,)]\u001b[0m\u001b[32;1m\u001b[1;3mThere are 2 integration-catalog entries in the integration-catalog that use Snowflake as targets.\u001b[0m\n",
      "\n",
      "\u001b[1m> Finished chain.\u001b[0m\n"
     ]
    },
    {
     "data": {
      "text/plain": [
       "{'input': 'how many integration-catalog in the integration-catalog use Snowflake as targets',\n",
       " 'output': 'There are 2 integration-catalog entries in the integration-catalog that use Snowflake as targets.'}"
      ]
     },
     "execution_count": 33,
     "metadata": {},
     "output_type": "execute_result"
    }
   ],
   "source": [
    "agent_executor.invoke({\"input\": \"how many integration-catalog in the integration-catalog use Snowflake as targets\"})"
   ]
  },
  {
   "cell_type": "code",
   "execution_count": 35,
   "id": "1f9f5a47-f555-4bfe-83dd-15e308970db6",
   "metadata": {},
   "outputs": [
    {
     "name": "stdout",
     "output_type": "stream",
     "text": [
      "\n",
      "\n",
      "\u001b[1m> Entering new SQL Agent Executor chain...\u001b[0m\n",
      "\u001b[32;1m\u001b[1;3m\n",
      "Invoking: `sql_db_list_tables` with `{}`\n",
      "\n",
      "\n",
      "\u001b[0m\u001b[38;5;200m\u001b[1;3mintegrations-catalog-full\u001b[0m\u001b[32;1m\u001b[1;3m\n",
      "Invoking: `sql_db_schema` with `{'table_names': 'integrations-catalog-full'}`\n",
      "\n",
      "\n",
      "\u001b[0m\u001b[33;1m\u001b[1;3m\n",
      "CREATE TABLE \"integrations-catalog-full\" (\n",
      "\tuid TEXT, \n",
      "\tpath TEXT, \n",
      "\tname TEXT, \n",
      "\ttype TEXT, \n",
      "\tenabled BOOLEAN, \n",
      "\tjob_id TEXT, \n",
      "\tsnode_id TEXT, \n",
      "\tparams TEXT, \n",
      "\tcreated_at TEXT, \n",
      "\tcreated_by TEXT, \n",
      "\tupdated_at TEXT, \n",
      "\tupdated_by TEXT, \n",
      "\tschedule TEXT, \n",
      "\t\"pipeline.name\" TEXT, \n",
      "\t\"pipeline.version\" BIGINT, \n",
      "\t\"pipeline.created_by\" TEXT, \n",
      "\t\"pipeline.snode_id\" TEXT, \n",
      "\t\"pipeline.doc_link\" TEXT, \n",
      "\t\"pipeline.notes\" TEXT, \n",
      "\t\"pipeline.purpose\" TEXT, \n",
      "\t\"pipeline.params\" TEXT, \n",
      "\t\"pipeline.sources\" TEXT, \n",
      "\t\"pipeline.targets\" TEXT, \n",
      "\t\"pipeline.accounts\" TEXT, \n",
      "\t\"BusinessObject(s)\" TEXT, \n",
      "\t\"Domain\" TEXT, \n",
      "\t\"Domain Owner(s)\" TEXT, \n",
      "\t\"Business Object(s)\" TEXT, \n",
      "\t\"Department\" TEXT, \n",
      "\t\"Project ID\" FLOAT, \n",
      "\t\"DomainOwner(s)\" TEXT, \n",
      "\t\"BusinessObject(s)\"\"\" TEXT, \n",
      "\t\"ProjectID\" FLOAT, \n",
      "\t\"Go-LiveDate\" TEXT, \n",
      "\t\"Go-Live Date\" TEXT, \n",
      "\t\"BO\" TEXT\n",
      ")\n",
      "\n",
      "/*\n",
      "3 rows from integrations-catalog-full table:\n",
      "uid\tpath\tname\ttype\tenabled\tjob_id\tsnode_id\tparams\tcreated_at\tcreated_by\tupdated_at\tupdated_by\tschedule\tpipeline.name\tpipeline.version\tpipeline.created_by\tpipeline.snode_id\tpipeline.doc_link\tpipeline.notes\tpipeline.purpose\tpipeline.params\tpipeline.sources\tpipeline.targets\tpipeline.accounts\tBusinessObject(s)\tDomain\tDomain Owner(s)\tBusiness Object(s)\tDepartment\tProject ID\tDomainOwner(s)\tBusinessObject(s)\"\tProjectID\tGo-LiveDate\tGo-Live Date\tBO\n",
      "/ADM_Demo2/projects/SAP/Update Coupa Invoice Payment records\t/ADM_Demo2/projects/SAP\tUpdate Coupa Invoice Payment records\ttriggered\tTrue\t6623dea36b713e0c49ab9723\t6623dea37f88077fb9312cb1\tNone\t2024-04-20T15:26:27.118Z\ttanand@snaplogic.com\t2024-04-20T15:26:27.118Z\ttanand@snaplogic.com\tNone\tSAP to Coupa - Payment\t4\tspothana+admin2@snaplogic.com\t6622be10f7b05ae499f6a916\tNone\tNone\tNone\tNone\tNone\t[\"Binary\",\"REST\"]\t[{\"name\":\"Coupa_integartion_acct\",\"path\":\"/ADM_Demo2/shared/Coupa_integartion_acct\"}]\tOrder | Payment | Procurement\tERP\tPeter Pan\tOrder | Payment | Procurement\tFacilities\t3546.0\tPeter Pan\tOrder | Payment | Procurement\t3546.0\t26-Jun-22\t26-Jun-22\tNone\n",
      "/ADM_Demo2/projects/ServiceNow/Salesforce Campaign Create using ServiceNow Tickets\t/ADM_Demo2/projects/ServiceNow\tSalesforce Campaign Create using ServiceNow Tickets\tscheduled\tTrue\t6623de51d4a8fa5ad80b1216\t6623de51caa75c0f79264a92\t{\"Test\":\"dd\"}\t2024-04-20T15:25:05.995Z\ttanand@snaplogic.com\t2024-04-20T15:25:05.995Z\ttanand@snaplogic.com\t{\"start_time\":\"08:29:14\",\"time_zone\":\"US/Pacific\",\"start_date\":\"2024-04-20\",\"repeat\":{\"on\":{\"day\":[]\tService Now Request to Salesforce Campaign\t5\ttanand@snaplogic.com\t6623ddb9f5821d556774a9aa\tNone\tNone\tNone\t{\"Test\":\"dd\"}\tNone\t[\"Salesforce\"]\t[{\"name\":\"Salesforce_Acct\",\"path\":\"/ADM_Demo2/shared/Salesforce_Acct\"}]\tService Request | Campaign Mgmt\tMarketing\tPeter Pan\tService Request | Campaign Mgmt\tMarketing Operations\t3547.0\tPeter Pan\tService Request | Campaign Mgmt\t3547.0\t26-Apr-23\t26-Apr-23\tOrder | Payment | Procurement\n",
      "ADM_Demo2/projects/SnowFlake/pipelineExecute_PL _Pay_Task_TT\tADM_Demo2/projects/SnowFlake\tpipelineExecute_PL _Pay_Task_TT\ttriggered\tTrue\t6622be3b24f7996280947c16\t6622be3bace0170922456e2f\tNone\t2024-04-19T18:55:55.907Z\tspothana+admin2@snaplogic.com\t2024-04-22T20:46:11.997Z\ttanand@snaplogic.com\tNone\tpipelineExecute_PL\t1\tspothana+admin2@snaplogic.com\t6622be38ec399212308cb2aa\tNone\tNone\tNone\tNone\tNone\tNone\tNone\tNone\tNone\tNone\tNone\tNone\tNone\tNone\tNone\tNone\tNone\tNone\tNone\n",
      "*/\u001b[0m\u001b[32;1m\u001b[1;3m\n",
      "Invoking: `sql_db_query` with `{'query': 'SELECT COUNT(*) FROM \"integrations-catalog-full\" WHERE \"pipeline.targets\" LIKE \\'%ServiceNow%\\''}`\n",
      "\n",
      "\n",
      "\u001b[0m\u001b[36;1m\u001b[1;3m[(2,)]\u001b[0m\u001b[32;1m\u001b[1;3mThere are 2 integration-catalog entries in the integration-catalog that use Servicenow as targets.\u001b[0m\n",
      "\n",
      "\u001b[1m> Finished chain.\u001b[0m\n"
     ]
    },
    {
     "data": {
      "text/plain": [
       "{'input': 'how many integration-catalog in the integration-catalog use Servicenow as targets',\n",
       " 'output': 'There are 2 integration-catalog entries in the integration-catalog that use Servicenow as targets.'}"
      ]
     },
     "execution_count": 35,
     "metadata": {},
     "output_type": "execute_result"
    }
   ],
   "source": [
    "agent_executor.invoke({\"input\": \"how many integration-catalog in the integration-catalog use Servicenow as targets\"})"
   ]
  },
  {
   "cell_type": "code",
   "execution_count": 159,
   "id": "19c8c5ca-9480-4894-8e00-1cabe4326927",
   "metadata": {},
   "outputs": [
    {
     "name": "stdout",
     "output_type": "stream",
     "text": [
      "```python\n",
      "df['Age'].corr(df['Fare'])\n",
      "```\n"
     ]
    }
   ],
   "source": [
    "ai_msg = llm.invoke(\n",
    "    \"I have a pandas DataFrame 'df' with columns 'Age' and 'Fare'. Write code to compute the correlation between the two columns. Return Markdown for a Python code snippet and nothing else.\"\n",
    ")\n",
    "print(ai_msg.content)"
   ]
  },
  {
   "cell_type": "code",
   "execution_count": 160,
   "id": "c941aa22-8357-4f45-aa66-b6b09ffceacb",
   "metadata": {},
   "outputs": [
    {
     "data": {
      "text/plain": [
       "32.30542018038331"
      ]
     },
     "execution_count": 160,
     "metadata": {},
     "output_type": "execute_result"
    }
   ],
   "source": [
    "import pandas as pd\n",
    "from langchain_core.prompts import ChatPromptTemplate\n",
    "from langchain_experimental.tools import PythonAstREPLTool\n",
    "\n",
    "df = pd.read_csv(\"titanic.csv\")\n",
    "tool = PythonAstREPLTool(locals={\"df\": df})\n",
    "tool.invoke(\"df['Fare'].mean()\")"
   ]
  },
  {
   "cell_type": "code",
   "execution_count": 161,
   "id": "7282b8b6-9b02-46c1-afcf-f349fb5cd0a4",
   "metadata": {},
   "outputs": [
    {
     "data": {
      "text/plain": [
       "AIMessage(content='', additional_kwargs={'tool_calls': [{'id': 'call_s7hf6rsZ3NXrEe8SgIGMgl7Q', 'function': {'arguments': '{\"query\":\"df[[\\'Age\\', \\'Fare\\']].corr()\"}', 'name': 'python_repl_ast'}, 'type': 'function'}]}, response_metadata={'token_usage': {'completion_tokens': 14, 'prompt_tokens': 125, 'total_tokens': 139}, 'model_name': 'gpt-3.5-turbo', 'system_fingerprint': 'fp_3b956da36b', 'finish_reason': 'stop', 'logprobs': None}, id='run-5cd31934-310a-49e3-99e9-79a5dd34865b-0', tool_calls=[{'name': 'python_repl_ast', 'args': {'query': \"df[['Age', 'Fare']].corr()\"}, 'id': 'call_s7hf6rsZ3NXrEe8SgIGMgl7Q'}])"
      ]
     },
     "execution_count": 161,
     "metadata": {},
     "output_type": "execute_result"
    }
   ],
   "source": [
    "llm_with_tools = llm.bind_tools([tool], tool_choice=tool.name)\n",
    "llm_with_tools.invoke(\n",
    "    \"I have a dataframe 'df' and want to know the correlation between the 'Age' and 'Fare' columns\"\n",
    ")"
   ]
  },
  {
   "cell_type": "code",
   "execution_count": 166,
   "id": "70778b17-5e8c-4d11-b2e9-2369da849d61",
   "metadata": {},
   "outputs": [],
   "source": [
    "from langchain.output_parsers.openai_tools import JsonOutputToolsParser\n",
    "\n",
    "parser = JsonOutputKeyToolsParser(key_name=tool.name,first_tool_only=True)\n"
   ]
  },
  {
   "cell_type": "code",
   "execution_count": 167,
   "id": "032f6a4d-0cac-4816-a879-277e3c5c2efe",
   "metadata": {},
   "outputs": [],
   "source": [
    "chain=llm_with_tools | parser"
   ]
  },
  {
   "cell_type": "code",
   "execution_count": 168,
   "id": "938d521f-4016-4328-8442-2e55007a8660",
   "metadata": {},
   "outputs": [
    {
     "data": {
      "text/plain": [
       "{'query': \"df[['Age', 'Fare']].corr()\"}"
      ]
     },
     "execution_count": 168,
     "metadata": {},
     "output_type": "execute_result"
    }
   ],
   "source": [
    "chain.invoke(\"I have a dataframe 'df' and want to know the correlation between the 'Age' and 'Fare' columns\")\n",
    "\n"
   ]
  },
  {
   "cell_type": "code",
   "execution_count": 169,
   "id": "0a052444-0c10-4418-b662-924b71679420",
   "metadata": {},
   "outputs": [
    {
     "data": {
      "text/plain": [
       "{'query': \"df[['Age', 'Fare']].corr()\"}"
      ]
     },
     "execution_count": 169,
     "metadata": {},
     "output_type": "execute_result"
    }
   ],
   "source": [
    "system = f\"\"\"You have access to a pandas dataframe `df`. \\\n",
    "Here is the output of `df.head().to_markdown()`:\n",
    "\n",
    "```\n",
    "{df.head().to_markdown()}\n",
    "```\n",
    "\n",
    "Given a user question, write the Python code to answer it. \\\n",
    "Return ONLY the valid Python code and nothing else. \\\n",
    "Don't assume you have access to any libraries other than built-in Python ones and pandas.\"\"\"\n",
    "prompt = ChatPromptTemplate.from_messages([(\"system\", system), (\"human\", \"{question}\")])\n",
    "code_chain = prompt | llm_with_tools | parser\n",
    "code_chain.invoke({\"question\": \"What's the correlation between age and fare\"})"
   ]
  },
  {
   "cell_type": "code",
   "execution_count": 170,
   "id": "7b8025d9-5d3d-442d-9a96-c013a8e4fc1b",
   "metadata": {},
   "outputs": [
    {
     "data": {
      "text/plain": [
       "0.1123286369994162"
      ]
     },
     "execution_count": 170,
     "metadata": {},
     "output_type": "execute_result"
    }
   ],
   "source": [
    "chain = prompt | llm_with_tools | parser | tool  # noqa\n",
    "chain.invoke({\"question\": \"What's the correlation between age and fare\"})"
   ]
  },
  {
   "cell_type": "code",
   "execution_count": 171,
   "id": "27b9f9e0-b857-4078-b09b-be8562066dd7",
   "metadata": {},
   "outputs": [],
   "source": [
    "from operator import itemgetter\n",
    "\n",
    "from langchain_core.messages import ToolMessage\n",
    "from langchain_core.output_parsers import StrOutputParser\n",
    "from langchain_core.prompts import MessagesPlaceholder\n",
    "from langchain_core.runnables import RunnablePassthrough\n",
    "\n",
    "system = f\"\"\"You have access to a pandas dataframe `df`. \\\n",
    "Here is the output of `df.head().to_markdown()`:\n",
    "\n",
    "```\n",
    "{df.head().to_markdown()}\n",
    "```\n",
    "\n",
    "Given a user question, write the Python code to answer it. \\\n",
    "Don't assume you have access to any libraries other than built-in Python ones and pandas.\n",
    "Respond directly to the question once you have enough information to answer it.\"\"\"\n",
    "prompt = ChatPromptTemplate.from_messages(\n",
    "    [\n",
    "        (\n",
    "            \"system\",\n",
    "            system,\n",
    "        ),\n",
    "        (\"human\", \"{question}\"),\n",
    "        # This MessagesPlaceholder allows us to optionally append an arbitrary number of messages\n",
    "        # at the end of the prompt using the 'chat_history' arg.\n",
    "        MessagesPlaceholder(\"chat_history\", optional=True),\n",
    "    ]\n",
    ")\n",
    "\n",
    "\n",
    "def _get_chat_history(x: dict) -> list:\n",
    "    \"\"\"Parse the chain output up to this point into a list of chat history messages to insert in the prompt.\"\"\"\n",
    "    ai_msg = x[\"ai_msg\"]\n",
    "    tool_call_id = x[\"ai_msg\"].additional_kwargs[\"tool_calls\"][0][\"id\"]\n",
    "    tool_msg = ToolMessage(tool_call_id=tool_call_id, content=str(x[\"tool_output\"]))\n",
    "    return [ai_msg, tool_msg]\n",
    "\n",
    "\n",
    "chain = (\n",
    "    RunnablePassthrough.assign(ai_msg=prompt | llm_with_tools)\n",
    "    .assign(tool_output=itemgetter(\"ai_msg\") | parser | tool)\n",
    "    .assign(chat_history=_get_chat_history)\n",
    "    .assign(response=prompt | llm | StrOutputParser())\n",
    "    .pick([\"tool_output\", \"response\"])\n",
    ")"
   ]
  },
  {
   "cell_type": "code",
   "execution_count": 172,
   "id": "c8bb77cc-3ad5-47bf-a8c8-349386997d15",
   "metadata": {},
   "outputs": [
    {
     "data": {
      "text/plain": [
       "{'tool_output':            Age      Fare\n",
       " Age   1.000000  0.112329\n",
       " Fare  0.112329  1.000000,\n",
       " 'response': 'The correlation between age and fare is approximately 0.1123.'}"
      ]
     },
     "execution_count": 172,
     "metadata": {},
     "output_type": "execute_result"
    }
   ],
   "source": [
    "chain.invoke({\"question\": \"What's the correlation between age and fare\"})"
   ]
  },
  {
   "cell_type": "code",
   "execution_count": 173,
   "id": "b3d97eb8-9aaa-4428-b612-932d03fd8001",
   "metadata": {},
   "outputs": [
    {
     "name": "stdout",
     "output_type": "stream",
     "text": [
      "\n",
      "\n",
      "\u001b[1m> Entering new AgentExecutor chain...\u001b[0m\n",
      "\u001b[32;1m\u001b[1;3m\n",
      "Invoking: `python_repl_ast` with `{'query': \"df[['Age', 'Fare']].corr().iloc[0,1]\"}`\n",
      "\n",
      "\n",
      "\u001b[0m\u001b[36;1m\u001b[1;3m0.1123286369994162\u001b[0m\u001b[32;1m\u001b[1;3m\n",
      "Invoking: `python_repl_ast` with `{'query': \"df[['Fare', 'Survived']].corr().iloc[0,1]\"}`\n",
      "\n",
      "\n",
      "\u001b[0m\u001b[36;1m\u001b[1;3m0.2561785496289603\u001b[0m\u001b[32;1m\u001b[1;3mThe correlation between age and fare is approximately 0.112, while the correlation between fare and survival is approximately 0.256. Therefore, the correlation between fare and survival is greater than the correlation between age and fare.\u001b[0m\n",
      "\n",
      "\u001b[1m> Finished chain.\u001b[0m\n"
     ]
    },
    {
     "data": {
      "text/plain": [
       "{'input': \"What's the correlation between age and fare? is that greater than the correlation between fare and survival?\",\n",
       " 'output': 'The correlation between age and fare is approximately 0.112, while the correlation between fare and survival is approximately 0.256. Therefore, the correlation between fare and survival is greater than the correlation between age and fare.'}"
      ]
     },
     "execution_count": 173,
     "metadata": {},
     "output_type": "execute_result"
    }
   ],
   "source": [
    "from langchain_experimental.agents import create_pandas_dataframe_agent\n",
    "\n",
    "agent = create_pandas_dataframe_agent(llm, df, agent_type=\"openai-tools\", verbose=True)\n",
    "agent.invoke(\n",
    "    {\n",
    "        \"input\": \"What's the correlation between age and fare? is that greater than the correlation between fare and survival?\"\n",
    "    }\n",
    ")"
   ]
  },
  {
   "cell_type": "code",
   "execution_count": 174,
   "id": "8dd1b7da-76e9-4c8f-98bf-4f6ebd1e9a80",
   "metadata": {},
   "outputs": [
    {
     "data": {
      "text/plain": [
       "-0.14384991262954416"
      ]
     },
     "execution_count": 174,
     "metadata": {},
     "output_type": "execute_result"
    }
   ],
   "source": [
    "df_1 = df[[\"Age\", \"Fare\"]]\n",
    "df_2 = df[[\"Fare\", \"Survived\"]]\n",
    "\n",
    "tool = PythonAstREPLTool(locals={\"df_1\": df_1, \"df_2\": df_2})\n",
    "llm_with_tool = llm.bind_tools(tools=[tool], tool_choice=tool.name)\n",
    "df_template = \"\"\"```python\n",
    "{df_name}.head().to_markdown()\n",
    ">>> {df_head}\n",
    "```\"\"\"\n",
    "df_context = \"\\n\\n\".join(\n",
    "    df_template.format(df_head=_df.head().to_markdown(), df_name=df_name)\n",
    "    for _df, df_name in [(df_1, \"df_1\"), (df_2, \"df_2\")]\n",
    ")\n",
    "\n",
    "system = f\"\"\"You have access to a number of pandas dataframes. \\\n",
    "Here is a sample of rows from each dataframe and the python code that was used to generate the sample:\n",
    "\n",
    "{df_context}\n",
    "\n",
    "Given a user question about the dataframes, write the Python code to answer it. \\\n",
    "Don't assume you have access to any libraries other than built-in Python ones and pandas. \\\n",
    "Make sure to refer only to the variables mentioned above.\"\"\"\n",
    "prompt = ChatPromptTemplate.from_messages([(\"system\", system), (\"human\", \"{question}\")])\n",
    "\n",
    "chain = prompt | llm_with_tool | parser | tool\n",
    "chain.invoke(\n",
    "    {\n",
    "        \"question\": \"return the difference in the correlation between age and fare and the correlation between fare and survival\"\n",
    "    }\n",
    ")"
   ]
  },
  {
   "cell_type": "code",
   "execution_count": null,
   "id": "badbebb1-1973-48ca-91db-12a96c73a906",
   "metadata": {},
   "outputs": [],
   "source": []
  }
 ],
 "metadata": {
  "kernelspec": {
   "display_name": "Python 3 (ipykernel)",
   "language": "python",
   "name": "python3"
  },
  "language_info": {
   "codemirror_mode": {
    "name": "ipython",
    "version": 3
   },
   "file_extension": ".py",
   "mimetype": "text/x-python",
   "name": "python",
   "nbconvert_exporter": "python",
   "pygments_lexer": "ipython3",
   "version": "3.11.8"
  }
 },
 "nbformat": 4,
 "nbformat_minor": 5
}
